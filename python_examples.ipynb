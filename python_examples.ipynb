{
 "metadata": {
  "name": ""
 },
 "nbformat": 3,
 "nbformat_minor": 0,
 "worksheets": [
  {
   "cells": [
    {
     "cell_type": "code",
     "collapsed": false,
     "input": [
      "from Bio.Seq import Seq\n",
      "my_seq = Seq(\"AGTACACTGGT\")"
     ],
     "language": "python",
     "metadata": {},
     "outputs": [],
     "prompt_number": 1
    },
    {
     "cell_type": "code",
     "collapsed": false,
     "input": [
      "from Bio.Seq import Seq\n",
      "from Bio.Alphabet import IUPAC\n",
      "my_seq = Seq(\"AGTACACTGGT\", IUPAC.unambiguous_dna)"
     ],
     "language": "python",
     "metadata": {},
     "outputs": [],
     "prompt_number": 2
    },
    {
     "cell_type": "code",
     "collapsed": false,
     "input": [
      "from Bio.Seq import Seq\n",
      "simple_seq = Seq(\"GATC\")\n",
      "from Bio.SeqRecord import SeqRecord\n",
      "simple_seq_r = SeqRecord(simple_seq)\n",
      "print simple_seq_r.id"
     ],
     "language": "python",
     "metadata": {},
     "outputs": [
      {
       "output_type": "stream",
       "stream": "stdout",
       "text": [
        "<unknown id>\n"
       ]
      }
     ],
     "prompt_number": 3
    },
    {
     "cell_type": "code",
     "collapsed": false,
     "input": [
      "print simple_seq_r"
     ],
     "language": "python",
     "metadata": {},
     "outputs": [
      {
       "output_type": "stream",
       "stream": "stdout",
       "text": [
        "ID: <unknown id>\n",
        "Name: <unknown name>\n",
        "Description: <unknown description>\n",
        "Number of features: 0\n",
        "Seq('GATC', Alphabet())\n"
       ]
      }
     ],
     "prompt_number": 11
    },
    {
     "cell_type": "code",
     "collapsed": false,
     "input": [
      "from Bio import SeqIO\n",
      "for record in SeqIO.parse(\"example.fasta\", \"fasta\") :\n",
      "    print record.id"
     ],
     "language": "python",
     "metadata": {},
     "outputs": [
      {
       "output_type": "stream",
       "stream": "stdout",
       "text": [
        "Sequence#1\n",
        "Sequence#2\n"
       ]
      }
     ],
     "prompt_number": 4
    },
    {
     "cell_type": "code",
     "collapsed": false,
     "input": [
      "from Bio.Seq import Seq\n",
      "from Bio.Alphabet import IUPAC\n",
      "from Bio.SeqRecord import SeqRecord\n",
      "from Bio import SeqIO\n",
      "\n",
      "# Create some Seq objects\n",
      "seq1 = Seq(\"GATCAGATTA\", IUPAC.unambiguous_dna)\n",
      "seq2 = Seq(\"GTGCAGTATA\", IUPAC.unambiguous_dna)\n",
      "\n",
      "# Put them into SeqRecord objects\n",
      "record1 = SeqRecord(seq1, id=\"Sequence 1\")\n",
      "record2 = SeqRecord(seq2, id=\"Sequence 2\")\n",
      "\n",
      "# Write the SeqRecords to a fasta file\n",
      "list_of_SeqRecords = [record1, record2]\n",
      "SeqIO.write(list_of_SeqRecords, \"example_output.fasta\", \"fasta\")"
     ],
     "language": "python",
     "metadata": {},
     "outputs": [
      {
       "metadata": {},
       "output_type": "pyout",
       "prompt_number": 5,
       "text": [
        "2"
       ]
      }
     ],
     "prompt_number": 5
    },
    {
     "cell_type": "code",
     "collapsed": false,
     "input": [],
     "language": "python",
     "metadata": {},
     "outputs": []
    }
   ],
   "metadata": {}
  }
 ]
}